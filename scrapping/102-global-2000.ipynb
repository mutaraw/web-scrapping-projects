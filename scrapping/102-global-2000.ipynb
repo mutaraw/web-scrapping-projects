{
 "cells": [
  {
   "metadata": {},
   "cell_type": "markdown",
   "source": "# THE 22ND ANNUAL GLOBAL 2000 RANKING OF THE WORLD’S LARGEST PUBLIC COMPANIES",
   "id": "a59ede2f84605234"
  },
  {
   "metadata": {},
   "cell_type": "code",
   "source": [
    "import requests\n",
    "import pandas as pd\n",
    "from bs4 import BeautifulSoup"
   ],
   "id": "initial_id",
   "outputs": [],
   "execution_count": null
  },
  {
   "metadata": {},
   "cell_type": "code",
   "source": "url = 'https://www.forbes.com/lists/global2000/'",
   "id": "563c7f2146191dec",
   "outputs": [],
   "execution_count": null
  },
  {
   "metadata": {},
   "cell_type": "code",
   "source": "response = requests.get(url)",
   "id": "95a781b9cd71b461",
   "outputs": [],
   "execution_count": null
  },
  {
   "metadata": {},
   "cell_type": "code",
   "source": "response.raise_for_status()",
   "id": "1b36743ae506059a",
   "outputs": [],
   "execution_count": null
  },
  {
   "metadata": {},
   "cell_type": "code",
   "source": "response",
   "id": "635edd5439525734",
   "outputs": [],
   "execution_count": null
  },
  {
   "metadata": {},
   "cell_type": "code",
   "source": "soup = BeautifulSoup(response.text, 'html.parser')",
   "id": "72ece493a66899da",
   "outputs": [],
   "execution_count": null
  },
  {
   "metadata": {},
   "cell_type": "code",
   "source": "column_headers = [header.get_text().strip(' ') for header in soup.find_all('span', class_='header-content-text')]",
   "id": "5db7a8d830a1b5fc",
   "outputs": [],
   "execution_count": null
  },
  {
   "metadata": {},
   "cell_type": "code",
   "source": "column_headers",
   "id": "31c76c58eafe18a8",
   "outputs": [],
   "execution_count": null
  },
  {
   "metadata": {},
   "cell_type": "code",
   "source": "column_data_rows = soup.find_all('a', class_='table-row')",
   "id": "df2a0cea5865547",
   "outputs": [],
   "execution_count": null
  },
  {
   "metadata": {},
   "cell_type": "code",
   "source": [
    "data = []\n",
    "for row in column_data_rows:\n",
    "    col_data = row.find_all('div', class_='table-cell')\n",
    "    col_data = [col.get_text().strip(' ') for col in col_data]\n",
    "    data.append(col_data)"
   ],
   "id": "13e596d40098e27d",
   "outputs": [],
   "execution_count": null
  },
  {
   "metadata": {},
   "cell_type": "code",
   "source": [
    "print(\"Data:\")\n",
    "for row in data:\n",
    "    print(row)"
   ],
   "id": "895406417f44c885",
   "outputs": [],
   "execution_count": null
  },
  {
   "metadata": {},
   "cell_type": "code",
   "source": "df = pd.DataFrame(data, columns=column_headers)",
   "id": "5e3fd46409330cef",
   "outputs": [],
   "execution_count": null
  },
  {
   "metadata": {},
   "cell_type": "code",
   "source": "df.info()",
   "id": "7b35244a78ad3e5f",
   "outputs": [],
   "execution_count": null
  },
  {
   "metadata": {},
   "cell_type": "code",
   "source": [
    "df.RANK = df.RANK.astype('str').str.replace(',', '').str.strip()\n",
    "df.RANK = df.RANK.astype('int')\n",
    "df.NAME = df.NAME.astype('str')\n",
    "df['COUNTRY/TERRITORY'] = df['COUNTRY/TERRITORY'].astype('str')"
   ],
   "id": "de9f21e56a1b8a77",
   "outputs": [],
   "execution_count": null
  },
  {
   "metadata": {},
   "cell_type": "code",
   "source": [
    "def clean_numeric_column(column):\n",
    "    def convert_value(value):\n",
    "        value = value.replace('$', '').replace(',', '')\n",
    "        if 'B' in value:\n",
    "            return float(value.replace('B', ''))\n",
    "        elif 'M' in value:\n",
    "            return float(value.replace('M', '')) / 1_000  # Convert millions to billions\n",
    "        else:\n",
    "            return float(value)\n",
    "\n",
    "    return df[column].apply(convert_value)"
   ],
   "id": "501dd4fd8585bf05",
   "outputs": [],
   "execution_count": null
  },
  {
   "metadata": {},
   "cell_type": "code",
   "source": [
    "df['SALES (in billions $)'] = clean_numeric_column('SALES')\n",
    "df['PROFIT (in billions $)'] = clean_numeric_column('PROFIT')\n",
    "df['ASSETS (in billions $)'] = clean_numeric_column('ASSETS')\n",
    "df['MARKET VALUE (in billions $)'] = clean_numeric_column('MARKET VALUE')"
   ],
   "id": "f76858041ca80ba4",
   "outputs": [],
   "execution_count": null
  },
  {
   "metadata": {},
   "cell_type": "code",
   "source": "df.drop(columns=['SALES', 'PROFIT', 'ASSETS', 'MARKET VALUE'], inplace=True)",
   "id": "c1889d1e8f64e993",
   "outputs": [],
   "execution_count": null
  },
  {
   "metadata": {},
   "cell_type": "code",
   "source": "print(\"Note: All financial values are converted to billions of dollars for consistency.\")",
   "id": "6b7f1e0ea677566e",
   "outputs": [],
   "execution_count": null
  },
  {
   "metadata": {},
   "cell_type": "code",
   "source": "df",
   "id": "704443050b6a37e",
   "outputs": [],
   "execution_count": null
  },
  {
   "metadata": {},
   "cell_type": "code",
   "source": "df.describe()",
   "id": "14f292cde85c0003",
   "outputs": [],
   "execution_count": null
  },
  {
   "metadata": {},
   "cell_type": "code",
   "source": "df.corr(numeric_only=True)",
   "id": "5a51b82883fd193c",
   "outputs": [],
   "execution_count": null
  },
  {
   "metadata": {},
   "cell_type": "code",
   "source": "",
   "id": "c318a87df9274c67",
   "outputs": [],
   "execution_count": null
  }
 ],
 "metadata": {
  "kernelspec": {
   "display_name": "Python 3",
   "language": "python",
   "name": "python3"
  },
  "language_info": {
   "codemirror_mode": {
    "name": "ipython",
    "version": 2
   },
   "file_extension": ".py",
   "mimetype": "text/x-python",
   "name": "python",
   "nbconvert_exporter": "python",
   "pygments_lexer": "ipython2",
   "version": "2.7.6"
  }
 },
 "nbformat": 4,
 "nbformat_minor": 5
}
